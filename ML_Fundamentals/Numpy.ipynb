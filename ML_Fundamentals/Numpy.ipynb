{
 "cells": [
  {
   "cell_type": "code",
   "id": "initial_id",
   "metadata": {
    "collapsed": true,
    "ExecuteTime": {
     "end_time": "2025-10-16T11:49:15.736850Z",
     "start_time": "2025-10-16T11:49:15.727613Z"
    }
   },
   "source": "import numpy as np\n",
   "outputs": [],
   "execution_count": 2
  },
  {
   "metadata": {},
   "cell_type": "markdown",
   "source": "**Array fundamentals**",
   "id": "a20fbbef0db95935"
  },
  {
   "metadata": {
    "ExecuteTime": {
     "end_time": "2025-10-16T11:49:28.294290Z",
     "start_time": "2025-10-16T11:49:28.274213Z"
    }
   },
   "cell_type": "code",
   "source": [
    "a=np.array([1,2,3,4,5])\n",
    "a"
   ],
   "id": "3da956bafb2d5251",
   "outputs": [
    {
     "data": {
      "text/plain": [
       "array([1, 2, 3, 4, 5])"
      ]
     },
     "execution_count": 3,
     "metadata": {},
     "output_type": "execute_result"
    }
   ],
   "execution_count": 3
  },
  {
   "metadata": {},
   "cell_type": "markdown",
   "source": "**Slicing and updating**",
   "id": "c5e7611afc89225a"
  },
  {
   "metadata": {
    "ExecuteTime": {
     "end_time": "2025-10-16T11:49:36.279347Z",
     "start_time": "2025-10-16T11:49:36.267884Z"
    }
   },
   "cell_type": "code",
   "source": "a[0]",
   "id": "3b8e47377049cbe",
   "outputs": [
    {
     "data": {
      "text/plain": [
       "np.int64(1)"
      ]
     },
     "execution_count": 4,
     "metadata": {},
     "output_type": "execute_result"
    }
   ],
   "execution_count": 4
  },
  {
   "metadata": {
    "ExecuteTime": {
     "end_time": "2025-10-16T11:49:50.934162Z",
     "start_time": "2025-10-16T11:49:50.920752Z"
    }
   },
   "cell_type": "code",
   "source": "a[0]=10",
   "id": "c70e36db30c5d31",
   "outputs": [],
   "execution_count": 5
  },
  {
   "metadata": {
    "ExecuteTime": {
     "end_time": "2025-10-16T11:49:52.716257Z",
     "start_time": "2025-10-16T11:49:52.704626Z"
    }
   },
   "cell_type": "code",
   "source": "a",
   "id": "56eb9016a3225382",
   "outputs": [
    {
     "data": {
      "text/plain": [
       "array([10,  2,  3,  4,  5])"
      ]
     },
     "execution_count": 6,
     "metadata": {},
     "output_type": "execute_result"
    }
   ],
   "execution_count": 6
  },
  {
   "metadata": {
    "ExecuteTime": {
     "end_time": "2025-10-16T11:49:59.501927Z",
     "start_time": "2025-10-16T11:49:59.487411Z"
    }
   },
   "cell_type": "code",
   "source": "a[:3]",
   "id": "8e96599354f00c82",
   "outputs": [
    {
     "data": {
      "text/plain": [
       "array([10,  2,  3])"
      ]
     },
     "execution_count": 7,
     "metadata": {},
     "output_type": "execute_result"
    }
   ],
   "execution_count": 7
  },
  {
   "metadata": {
    "ExecuteTime": {
     "end_time": "2025-10-16T11:50:06.308177Z",
     "start_time": "2025-10-16T11:50:06.284576Z"
    }
   },
   "cell_type": "code",
   "source": "a[3:]",
   "id": "c5d4f8758f499519",
   "outputs": [
    {
     "data": {
      "text/plain": [
       "array([4, 5])"
      ]
     },
     "execution_count": 8,
     "metadata": {},
     "output_type": "execute_result"
    }
   ],
   "execution_count": 8
  },
  {
   "metadata": {},
   "cell_type": "markdown",
   "source": "Two- and higher-dimensional arrays can be initialized from nested Python sequences:",
   "id": "4fe4e4e0c16ad363"
  },
  {
   "metadata": {
    "ExecuteTime": {
     "end_time": "2025-10-16T11:50:39.960334Z",
     "start_time": "2025-10-16T11:50:39.936153Z"
    }
   },
   "cell_type": "code",
   "source": [
    "a=np.array([[1,2,3],[4,5,6],[7,8,9]])\n",
    "a"
   ],
   "id": "83162056e1b25659",
   "outputs": [
    {
     "data": {
      "text/plain": [
       "array([[1, 2, 3],\n",
       "       [4, 5, 6],\n",
       "       [7, 8, 9]])"
      ]
     },
     "execution_count": 9,
     "metadata": {},
     "output_type": "execute_result"
    }
   ],
   "execution_count": 9
  },
  {
   "metadata": {
    "ExecuteTime": {
     "end_time": "2025-10-16T11:52:24.483462Z",
     "start_time": "2025-10-16T11:52:24.462474Z"
    }
   },
   "cell_type": "code",
   "source": "a[1,2]",
   "id": "375cc51a19f53738",
   "outputs": [
    {
     "data": {
      "text/plain": [
       "np.int64(6)"
      ]
     },
     "execution_count": 10,
     "metadata": {},
     "output_type": "execute_result"
    }
   ],
   "execution_count": 10
  },
  {
   "metadata": {
    "ExecuteTime": {
     "end_time": "2025-10-16T11:52:32.121128Z",
     "start_time": "2025-10-16T11:52:31.142420Z"
    }
   },
   "cell_type": "code",
   "source": "a[1,3]",
   "id": "24251341772e2823",
   "outputs": [
    {
     "ename": "IndexError",
     "evalue": "index 3 is out of bounds for axis 1 with size 3",
     "output_type": "error",
     "traceback": [
      "\u001B[31m---------------------------------------------------------------------------\u001B[39m",
      "\u001B[31mIndexError\u001B[39m                                Traceback (most recent call last)",
      "\u001B[36mCell\u001B[39m\u001B[36m \u001B[39m\u001B[32mIn[11]\u001B[39m\u001B[32m, line 1\u001B[39m\n\u001B[32m----> \u001B[39m\u001B[32m1\u001B[39m \u001B[43ma\u001B[49m\u001B[43m[\u001B[49m\u001B[32;43m1\u001B[39;49m\u001B[43m,\u001B[49m\u001B[32;43m3\u001B[39;49m\u001B[43m]\u001B[49m\n",
      "\u001B[31mIndexError\u001B[39m: index 3 is out of bounds for axis 1 with size 3"
     ]
    }
   ],
   "execution_count": 11
  },
  {
   "metadata": {},
   "cell_type": "markdown",
   "source": "**Array attributes**",
   "id": "ec2762a1e85aa347"
  },
  {
   "metadata": {},
   "cell_type": "markdown",
   "source": "ndim, shape, size, and dtype",
   "id": "8b68cb4a830704da"
  },
  {
   "metadata": {
    "ExecuteTime": {
     "end_time": "2025-10-16T11:53:34.332007Z",
     "start_time": "2025-10-16T11:53:34.303419Z"
    }
   },
   "cell_type": "code",
   "source": "a.ndim",
   "id": "f64696cd2dc15bac",
   "outputs": [
    {
     "data": {
      "text/plain": [
       "2"
      ]
     },
     "execution_count": 12,
     "metadata": {},
     "output_type": "execute_result"
    }
   ],
   "execution_count": 12
  },
  {
   "metadata": {
    "ExecuteTime": {
     "end_time": "2025-10-16T11:53:39.896418Z",
     "start_time": "2025-10-16T11:53:39.885519Z"
    }
   },
   "cell_type": "code",
   "source": "a.shape",
   "id": "b8885eb6507b3b8f",
   "outputs": [
    {
     "data": {
      "text/plain": [
       "(3, 3)"
      ]
     },
     "execution_count": 13,
     "metadata": {},
     "output_type": "execute_result"
    }
   ],
   "execution_count": 13
  },
  {
   "metadata": {
    "ExecuteTime": {
     "end_time": "2025-10-16T11:53:44.511152Z",
     "start_time": "2025-10-16T11:53:44.501593Z"
    }
   },
   "cell_type": "code",
   "source": "a.size",
   "id": "fb01139c4264326b",
   "outputs": [
    {
     "data": {
      "text/plain": [
       "9"
      ]
     },
     "execution_count": 14,
     "metadata": {},
     "output_type": "execute_result"
    }
   ],
   "execution_count": 14
  },
  {
   "metadata": {
    "ExecuteTime": {
     "end_time": "2025-10-16T11:54:15.139257Z",
     "start_time": "2025-10-16T11:54:15.130745Z"
    }
   },
   "cell_type": "code",
   "source": "a.dtype",
   "id": "4be3df5741933f2e",
   "outputs": [
    {
     "data": {
      "text/plain": [
       "dtype('int64')"
      ]
     },
     "execution_count": 15,
     "metadata": {},
     "output_type": "execute_result"
    }
   ],
   "execution_count": 15
  },
  {
   "metadata": {},
   "cell_type": "markdown",
   "source": "**How to create a basic array**",
   "id": "ccdcc1c799406a3e"
  },
  {
   "metadata": {},
   "cell_type": "markdown",
   "source": "np.zeros(), np.ones(), np.empty(), np.arange(), np.linspace()",
   "id": "a9052b3e5428f9d9"
  },
  {
   "metadata": {
    "ExecuteTime": {
     "end_time": "2025-10-16T11:55:43.870035Z",
     "start_time": "2025-10-16T11:55:43.861391Z"
    }
   },
   "cell_type": "code",
   "source": "np.zeros(2)",
   "id": "2cea72745585a337",
   "outputs": [
    {
     "data": {
      "text/plain": [
       "array([0., 0.])"
      ]
     },
     "execution_count": 16,
     "metadata": {},
     "output_type": "execute_result"
    }
   ],
   "execution_count": 16
  },
  {
   "metadata": {
    "ExecuteTime": {
     "end_time": "2025-10-16T11:56:10.068871Z",
     "start_time": "2025-10-16T11:56:10.036333Z"
    }
   },
   "cell_type": "code",
   "source": "np.ones(3)",
   "id": "897b9ce1804985b8",
   "outputs": [
    {
     "data": {
      "text/plain": [
       "array([1., 1., 1.])"
      ]
     },
     "execution_count": 17,
     "metadata": {},
     "output_type": "execute_result"
    }
   ],
   "execution_count": 17
  },
  {
   "metadata": {
    "ExecuteTime": {
     "end_time": "2025-10-16T11:56:23.980582Z",
     "start_time": "2025-10-16T11:56:23.963364Z"
    }
   },
   "cell_type": "code",
   "source": "np.empty(3)",
   "id": "35f1a197ab82682c",
   "outputs": [
    {
     "data": {
      "text/plain": [
       "array([1., 1., 1.])"
      ]
     },
     "execution_count": 18,
     "metadata": {},
     "output_type": "execute_result"
    }
   ],
   "execution_count": 18
  },
  {
   "metadata": {
    "ExecuteTime": {
     "end_time": "2025-10-16T11:56:43.217243Z",
     "start_time": "2025-10-16T11:56:43.199773Z"
    }
   },
   "cell_type": "code",
   "source": "np.arange(4)",
   "id": "b8325e28212e78c2",
   "outputs": [
    {
     "data": {
      "text/plain": [
       "array([0, 1, 2, 3])"
      ]
     },
     "execution_count": 19,
     "metadata": {},
     "output_type": "execute_result"
    }
   ],
   "execution_count": 19
  },
  {
   "metadata": {
    "ExecuteTime": {
     "end_time": "2025-10-16T11:58:03.386757Z",
     "start_time": "2025-10-16T11:58:03.372251Z"
    }
   },
   "cell_type": "code",
   "source": "np.arange(2,10,2)",
   "id": "415b31adb5bfdad5",
   "outputs": [
    {
     "data": {
      "text/plain": [
       "array([2, 4, 6, 8])"
      ]
     },
     "execution_count": 20,
     "metadata": {},
     "output_type": "execute_result"
    }
   ],
   "execution_count": 20
  },
  {
   "metadata": {
    "ExecuteTime": {
     "end_time": "2025-10-16T12:01:02.973704Z",
     "start_time": "2025-10-16T12:01:02.963802Z"
    }
   },
   "cell_type": "code",
   "source": "np.linspace(0,10,num=5)",
   "id": "2508fe1f4b7593e6",
   "outputs": [
    {
     "data": {
      "text/plain": [
       "array([ 0. ,  2.5,  5. ,  7.5, 10. ])"
      ]
     },
     "execution_count": 26,
     "metadata": {},
     "output_type": "execute_result"
    }
   ],
   "execution_count": 26
  },
  {
   "metadata": {},
   "cell_type": "markdown",
   "source": "Specifying your data type",
   "id": "5fe72e6514c14c3"
  },
  {
   "metadata": {
    "ExecuteTime": {
     "end_time": "2025-10-16T12:01:43.180835Z",
     "start_time": "2025-10-16T12:01:43.151911Z"
    }
   },
   "cell_type": "code",
   "source": "np.ones(5,dtype=np.int64)",
   "id": "d7c2c5da98b9d28d",
   "outputs": [
    {
     "data": {
      "text/plain": [
       "array([1, 1, 1, 1, 1])"
      ]
     },
     "execution_count": 27,
     "metadata": {},
     "output_type": "execute_result"
    }
   ],
   "execution_count": 27
  },
  {
   "metadata": {},
   "cell_type": "markdown",
   "source": "**Adding, removing, and sorting elements**",
   "id": "9e30efbf5be57cbd"
  },
  {
   "metadata": {
    "ExecuteTime": {
     "end_time": "2025-10-16T12:02:23.440760Z",
     "start_time": "2025-10-16T12:02:23.418970Z"
    }
   },
   "cell_type": "code",
   "source": [
    "arr=np.array([4,5,2,1,6])\n",
    "np.sort(arr)"
   ],
   "id": "b04fe3855cba31d5",
   "outputs": [
    {
     "data": {
      "text/plain": [
       "array([1, 2, 4, 5, 6])"
      ]
     },
     "execution_count": 28,
     "metadata": {},
     "output_type": "execute_result"
    }
   ],
   "execution_count": 28
  },
  {
   "metadata": {
    "ExecuteTime": {
     "end_time": "2025-10-16T12:05:19.879523Z",
     "start_time": "2025-10-16T12:05:19.865581Z"
    }
   },
   "cell_type": "code",
   "source": [
    "a=np.array([1,2,3])\n",
    "b=np.array([4,5,6])\n",
    "np.concatenate((a,b))"
   ],
   "id": "4e029bcfc6295dd9",
   "outputs": [
    {
     "data": {
      "text/plain": [
       "array([1, 2, 3, 4, 5, 6])"
      ]
     },
     "execution_count": 34,
     "metadata": {},
     "output_type": "execute_result"
    }
   ],
   "execution_count": 34
  },
  {
   "metadata": {
    "ExecuteTime": {
     "end_time": "2025-10-16T12:07:47.323145Z",
     "start_time": "2025-10-16T12:07:47.305599Z"
    }
   },
   "cell_type": "code",
   "source": [
    "x=np.array([[1,2],[4,5]])\n",
    "y=np.array([[9,10]])\n",
    "z=np.concatenate((x,y))"
   ],
   "id": "357151cd42534a57",
   "outputs": [],
   "execution_count": 39
  },
  {
   "metadata": {},
   "cell_type": "markdown",
   "source": "arr.reshape()",
   "id": "18823ac4e48ebb77"
  },
  {
   "metadata": {
    "ExecuteTime": {
     "end_time": "2025-10-16T12:12:35.308772Z",
     "start_time": "2025-10-16T12:12:35.261502Z"
    }
   },
   "cell_type": "code",
   "source": [
    "a=np.array([1,2,3,4,5,6])\n",
    "a.reshape(3,2)\n"
   ],
   "id": "b7dee01852694022",
   "outputs": [
    {
     "data": {
      "text/plain": [
       "array([[1, 2],\n",
       "       [3, 4],\n",
       "       [5, 6]])"
      ]
     },
     "execution_count": 46,
     "metadata": {},
     "output_type": "execute_result"
    }
   ],
   "execution_count": 46
  },
  {
   "metadata": {},
   "cell_type": "markdown",
   "source": "**How to convert a 1D array into a 2D array (how to add a new axis to an array)**\n",
   "id": "88361a9a5b98514c"
  },
  {
   "metadata": {},
   "cell_type": "markdown",
   "source": "You can use np.newaxis and np.expand_dims to increase the dimensions of your existing array.",
   "id": "9752693f68aaa93f"
  },
  {
   "metadata": {
    "ExecuteTime": {
     "end_time": "2025-10-16T12:16:19.276077Z",
     "start_time": "2025-10-16T12:16:19.264122Z"
    }
   },
   "cell_type": "code",
   "source": [
    "a=np.array([1,2,3,4,5,6])\n",
    "a.shape"
   ],
   "id": "c1d5afbe57ad7130",
   "outputs": [
    {
     "data": {
      "text/plain": [
       "(6,)"
      ]
     },
     "execution_count": 47,
     "metadata": {},
     "output_type": "execute_result"
    }
   ],
   "execution_count": 47
  },
  {
   "metadata": {
    "ExecuteTime": {
     "end_time": "2025-10-16T12:17:41.802813Z",
     "start_time": "2025-10-16T12:17:41.795786Z"
    }
   },
   "cell_type": "code",
   "source": [
    "# Using np.newaxis will increase the dimensions of your array by one dimension when used once.\n",
    "a2=a[np.newaxis,:]\n",
    "a2.shape"
   ],
   "id": "2b3896ce1c9a1aed",
   "outputs": [
    {
     "data": {
      "text/plain": [
       "(1, 6)"
      ]
     },
     "execution_count": 49,
     "metadata": {},
     "output_type": "execute_result"
    }
   ],
   "execution_count": 49
  },
  {
   "metadata": {
    "ExecuteTime": {
     "end_time": "2025-10-16T12:26:34.385254Z",
     "start_time": "2025-10-16T12:26:34.374269Z"
    }
   },
   "cell_type": "code",
   "source": [
    "col_vector=a[:,np.newaxis]\n",
    "col_vector.shape"
   ],
   "id": "bd322fe5aed4de7a",
   "outputs": [
    {
     "data": {
      "text/plain": [
       "(6, 1)"
      ]
     },
     "execution_count": 51,
     "metadata": {},
     "output_type": "execute_result"
    }
   ],
   "execution_count": 51
  },
  {
   "metadata": {
    "ExecuteTime": {
     "end_time": "2025-10-16T12:26:47.266659Z",
     "start_time": "2025-10-16T12:26:47.236087Z"
    }
   },
   "cell_type": "code",
   "source": "col_vector",
   "id": "945faf34f3a1682f",
   "outputs": [
    {
     "data": {
      "text/plain": [
       "array([[1],\n",
       "       [2],\n",
       "       [3],\n",
       "       [4],\n",
       "       [5],\n",
       "       [6]])"
      ]
     },
     "execution_count": 52,
     "metadata": {},
     "output_type": "execute_result"
    }
   ],
   "execution_count": 52
  },
  {
   "metadata": {},
   "cell_type": "markdown",
   "source": [
    "**condition based slicing**\n",
    "\n",
    "\n"
   ],
   "id": "a1adc8e94d988ef0"
  },
  {
   "metadata": {
    "ExecuteTime": {
     "end_time": "2025-10-16T13:23:11.232856Z",
     "start_time": "2025-10-16T13:23:11.122516Z"
    }
   },
   "cell_type": "code",
   "source": "a=np.array([1,2,3,4,5])",
   "id": "6c662fee16b9578c",
   "outputs": [],
   "execution_count": 53
  },
  {
   "metadata": {
    "ExecuteTime": {
     "end_time": "2025-10-16T13:23:26.980388Z",
     "start_time": "2025-10-16T13:23:26.969420Z"
    }
   },
   "cell_type": "code",
   "source": "print(a[a>3])",
   "id": "3f0cceb021a92d3f",
   "outputs": [
    {
     "name": "stdout",
     "output_type": "stream",
     "text": [
      "[4 5]\n"
     ]
    }
   ],
   "execution_count": 55
  },
  {
   "metadata": {
    "ExecuteTime": {
     "end_time": "2025-10-16T13:23:50.339167Z",
     "start_time": "2025-10-16T13:23:50.319933Z"
    }
   },
   "cell_type": "code",
   "source": "print(a[a>=1])",
   "id": "e1fac3b6097a00e7",
   "outputs": [
    {
     "name": "stdout",
     "output_type": "stream",
     "text": [
      "[1 2 3 4 5]\n"
     ]
    }
   ],
   "execution_count": 58
  },
  {
   "metadata": {
    "ExecuteTime": {
     "end_time": "2025-10-16T13:24:23.213373Z",
     "start_time": "2025-10-16T13:24:23.203380Z"
    }
   },
   "cell_type": "code",
   "source": "print(a[a%2==0])",
   "id": "11744951b98d42b6",
   "outputs": [
    {
     "name": "stdout",
     "output_type": "stream",
     "text": [
      "[2 4]\n"
     ]
    }
   ],
   "execution_count": 59
  },
  {
   "metadata": {
    "ExecuteTime": {
     "end_time": "2025-10-16T13:25:28.557162Z",
     "start_time": "2025-10-16T13:25:28.550759Z"
    }
   },
   "cell_type": "code",
   "source": "print(a[(a>2)&(a%2==0)])",
   "id": "d1eb4ede14f8fcdf",
   "outputs": [
    {
     "name": "stdout",
     "output_type": "stream",
     "text": [
      "[4]\n"
     ]
    }
   ],
   "execution_count": 64
  },
  {
   "metadata": {
    "ExecuteTime": {
     "end_time": "2025-10-16T13:26:45.439519Z",
     "start_time": "2025-10-16T13:26:45.409641Z"
    }
   },
   "cell_type": "code",
   "source": [
    "five=(a>3)|(a==2)\n",
    "five"
   ],
   "id": "62d7e5f0a347313",
   "outputs": [
    {
     "data": {
      "text/plain": [
       "array([False,  True, False,  True,  True])"
      ]
     },
     "execution_count": 66,
     "metadata": {},
     "output_type": "execute_result"
    }
   ],
   "execution_count": 66
  },
  {
   "metadata": {
    "ExecuteTime": {
     "end_time": "2025-10-16T13:33:44.824223Z",
     "start_time": "2025-10-16T13:33:44.815501Z"
    }
   },
   "cell_type": "code",
   "source": [
    "b=np.nonzero(a<3)\n",
    "print(b)\n"
   ],
   "id": "e0d363e76b84fc71",
   "outputs": [
    {
     "name": "stdout",
     "output_type": "stream",
     "text": [
      "(array([0, 1]),)\n"
     ]
    }
   ],
   "execution_count": 67
  },
  {
   "metadata": {},
   "cell_type": "markdown",
   "source": "How to create an array from existing data",
   "id": "baab4cca0bbb54a"
  },
  {
   "metadata": {
    "ExecuteTime": {
     "end_time": "2025-10-16T13:37:47.502362Z",
     "start_time": "2025-10-16T13:37:47.496615Z"
    }
   },
   "cell_type": "code",
   "source": "a=np.array([1,2,3,4,5,6,7,8,9,9])",
   "id": "a05bbaaad25477fd",
   "outputs": [],
   "execution_count": 68
  },
  {
   "metadata": {
    "ExecuteTime": {
     "end_time": "2025-10-16T13:37:59.702129Z",
     "start_time": "2025-10-16T13:37:59.697344Z"
    }
   },
   "cell_type": "code",
   "source": "a1=a[2:5]",
   "id": "dd1a3e0e57116526",
   "outputs": [],
   "execution_count": 69
  },
  {
   "metadata": {
    "ExecuteTime": {
     "end_time": "2025-10-16T13:38:03.034101Z",
     "start_time": "2025-10-16T13:38:03.025996Z"
    }
   },
   "cell_type": "code",
   "source": "a1",
   "id": "9e91d36add075736",
   "outputs": [
    {
     "data": {
      "text/plain": [
       "array([3, 4, 5])"
      ]
     },
     "execution_count": 70,
     "metadata": {},
     "output_type": "execute_result"
    }
   ],
   "execution_count": 70
  },
  {
   "metadata": {
    "ExecuteTime": {
     "end_time": "2025-10-16T13:39:29.899499Z",
     "start_time": "2025-10-16T13:39:29.886076Z"
    }
   },
   "cell_type": "code",
   "source": [
    "a1=np.array([[1,2,3],\n",
    "             [4,5,6]])\n",
    "a2=np.array([[11,12,13],\n",
    "             [14,15,16]])\n",
    "np.vstack((a1,a2))"
   ],
   "id": "f5113226a8427adf",
   "outputs": [
    {
     "data": {
      "text/plain": [
       "array([[ 1,  2,  3],\n",
       "       [ 4,  5,  6],\n",
       "       [11, 12, 13],\n",
       "       [14, 15, 16]])"
      ]
     },
     "execution_count": 71,
     "metadata": {},
     "output_type": "execute_result"
    }
   ],
   "execution_count": 71
  },
  {
   "metadata": {
    "ExecuteTime": {
     "end_time": "2025-10-16T13:40:02.837398Z",
     "start_time": "2025-10-16T13:40:02.830323Z"
    }
   },
   "cell_type": "code",
   "source": "np.hstack((a1,a2))",
   "id": "c134a890fc21057e",
   "outputs": [
    {
     "data": {
      "text/plain": [
       "array([[ 1,  2,  3, 11, 12, 13],\n",
       "       [ 4,  5,  6, 14, 15, 16]])"
      ]
     },
     "execution_count": 72,
     "metadata": {},
     "output_type": "execute_result"
    }
   ],
   "execution_count": 72
  },
  {
   "metadata": {},
   "cell_type": "markdown",
   "source": "Basic array operations",
   "id": "dd5f63ed9c227c21"
  },
  {
   "metadata": {
    "ExecuteTime": {
     "end_time": "2025-10-16T13:41:02.409904Z",
     "start_time": "2025-10-16T13:41:02.404626Z"
    }
   },
   "cell_type": "code",
   "source": "# addition, subtraction, multiplication, division, and more",
   "id": "4ba61a3c1ec62df2",
   "outputs": [],
   "execution_count": 74
  },
  {
   "metadata": {
    "ExecuteTime": {
     "end_time": "2025-10-16T13:41:34.313497Z",
     "start_time": "2025-10-16T13:41:34.298001Z"
    }
   },
   "cell_type": "code",
   "source": [
    "data=np.array([1,2])\n",
    "ones=np.ones(2)\n",
    "add=data+ones\n",
    "add"
   ],
   "id": "e1bd9e12e42ec615",
   "outputs": [
    {
     "data": {
      "text/plain": [
       "array([2., 3.])"
      ]
     },
     "execution_count": 75,
     "metadata": {},
     "output_type": "execute_result"
    }
   ],
   "execution_count": 75
  },
  {
   "metadata": {
    "ExecuteTime": {
     "end_time": "2025-10-16T13:42:08.669687Z",
     "start_time": "2025-10-16T13:42:08.661765Z"
    }
   },
   "cell_type": "code",
   "source": [
    "data=np.array([1,2])\n",
    "ones=np.ones(2)\n",
    "sub=data-ones\n",
    "sub"
   ],
   "id": "6ae208bab268b587",
   "outputs": [
    {
     "data": {
      "text/plain": [
       "array([0., 1.])"
      ]
     },
     "execution_count": 76,
     "metadata": {},
     "output_type": "execute_result"
    }
   ],
   "execution_count": 76
  },
  {
   "metadata": {
    "ExecuteTime": {
     "end_time": "2025-10-16T13:42:42.771001Z",
     "start_time": "2025-10-16T13:42:42.762348Z"
    }
   },
   "cell_type": "code",
   "source": [
    "a=np.array([1,2,3,4,5])\n",
    "b=a.sum()\n",
    "b"
   ],
   "id": "ef84eb400ee0062e",
   "outputs": [
    {
     "data": {
      "text/plain": [
       "np.int64(15)"
      ]
     },
     "execution_count": 77,
     "metadata": {},
     "output_type": "execute_result"
    }
   ],
   "execution_count": 77
  },
  {
   "metadata": {},
   "cell_type": "markdown",
   "source": "Broadcasting",
   "id": "82f856b6e96607a3"
  },
  {
   "metadata": {
    "ExecuteTime": {
     "end_time": "2025-10-16T13:45:42.657944Z",
     "start_time": "2025-10-16T13:45:42.648123Z"
    }
   },
   "cell_type": "code",
   "source": [
    "data=np.array([1,2,3,5])\n",
    "data*1.5\n"
   ],
   "id": "c63e72bd52cfe3b3",
   "outputs": [
    {
     "data": {
      "text/plain": [
       "array([1.5, 3. , 4.5, 7.5])"
      ]
     },
     "execution_count": 78,
     "metadata": {},
     "output_type": "execute_result"
    }
   ],
   "execution_count": 78
  },
  {
   "metadata": {},
   "cell_type": "markdown",
   "source": "maximum, minimum, sum, mean, product, standard deviation, and more",
   "id": "7ff229432bd1da58"
  },
  {
   "metadata": {
    "ExecuteTime": {
     "end_time": "2025-10-16T13:46:24.870699Z",
     "start_time": "2025-10-16T13:46:24.853057Z"
    }
   },
   "cell_type": "code",
   "source": [
    "data=np.array([1,1,2,33,4,5])\n",
    "data.max()"
   ],
   "id": "8ee9925459c6268e",
   "outputs": [
    {
     "data": {
      "text/plain": [
       "np.int64(33)"
      ]
     },
     "execution_count": 79,
     "metadata": {},
     "output_type": "execute_result"
    }
   ],
   "execution_count": 79
  },
  {
   "metadata": {
    "ExecuteTime": {
     "end_time": "2025-10-16T13:46:32.514459Z",
     "start_time": "2025-10-16T13:46:32.503623Z"
    }
   },
   "cell_type": "code",
   "source": "data.min()",
   "id": "e646fc27c6c3fb0a",
   "outputs": [
    {
     "data": {
      "text/plain": [
       "np.int64(1)"
      ]
     },
     "execution_count": 80,
     "metadata": {},
     "output_type": "execute_result"
    }
   ],
   "execution_count": 80
  },
  {
   "metadata": {
    "ExecuteTime": {
     "end_time": "2025-10-16T13:46:52.842842Z",
     "start_time": "2025-10-16T13:46:52.833080Z"
    }
   },
   "cell_type": "code",
   "source": "data.mean()",
   "id": "158953cd81029128",
   "outputs": [
    {
     "data": {
      "text/plain": [
       "np.float64(7.666666666666667)"
      ]
     },
     "execution_count": 84,
     "metadata": {},
     "output_type": "execute_result"
    }
   ],
   "execution_count": 84
  },
  {
   "metadata": {
    "ExecuteTime": {
     "end_time": "2025-10-16T13:47:04.462897Z",
     "start_time": "2025-10-16T13:47:04.457023Z"
    }
   },
   "cell_type": "code",
   "source": "data.sum()",
   "id": "83decf376e472c22",
   "outputs": [
    {
     "data": {
      "text/plain": [
       "np.int64(46)"
      ]
     },
     "execution_count": 86,
     "metadata": {},
     "output_type": "execute_result"
    }
   ],
   "execution_count": 86
  },
  {
   "metadata": {
    "ExecuteTime": {
     "end_time": "2025-10-16T14:24:46.528120Z",
     "start_time": "2025-10-16T14:24:46.490981Z"
    }
   },
   "cell_type": "code",
   "source": [
    "a=np.arange(1,100)\n",
    "np.random.choice(a,2)"
   ],
   "id": "8f2dc5f6421d63ce",
   "outputs": [
    {
     "data": {
      "text/plain": [
       "array([18, 75])"
      ]
     },
     "execution_count": 95,
     "metadata": {},
     "output_type": "execute_result"
    }
   ],
   "execution_count": 95
  },
  {
   "metadata": {
    "ExecuteTime": {
     "end_time": "2025-10-16T14:27:56.988695Z",
     "start_time": "2025-10-16T14:27:56.980715Z"
    }
   },
   "cell_type": "code",
   "source": [
    "a=np.array([1,2,3,4,5,3,4,5,6,9])\n",
    "unq=np.unique(a)\n",
    "unq"
   ],
   "id": "c42cd10c90c3b747",
   "outputs": [
    {
     "data": {
      "text/plain": [
       "array([1, 2, 3, 4, 5, 6, 9])"
      ]
     },
     "execution_count": 97,
     "metadata": {},
     "output_type": "execute_result"
    }
   ],
   "execution_count": 97
  },
  {
   "metadata": {
    "ExecuteTime": {
     "end_time": "2025-10-16T14:28:27.298756Z",
     "start_time": "2025-10-16T14:28:27.293155Z"
    }
   },
   "cell_type": "code",
   "source": [
    "a=[1,2,3,4,5,3,333,4]\n",
    "np.unique(a)"
   ],
   "id": "998936088cd1370b",
   "outputs": [
    {
     "data": {
      "text/plain": [
       "array([  1,   2,   3,   4,   5, 333])"
      ]
     },
     "execution_count": 99,
     "metadata": {},
     "output_type": "execute_result"
    }
   ],
   "execution_count": 99
  },
  {
   "metadata": {},
   "cell_type": "markdown",
   "source": "Transposing and reshaping a matrix\n",
   "id": "e03a8815d2dc10e3"
  },
  {
   "metadata": {
    "ExecuteTime": {
     "end_time": "2025-10-16T14:31:13.428732Z",
     "start_time": "2025-10-16T14:31:13.422938Z"
    }
   },
   "cell_type": "code",
   "source": [
    "a=np.array([[1,2,3],[4,5,6]])\n",
    "a.reshape(3,2)\n"
   ],
   "id": "4e9823873cfd05b4",
   "outputs": [
    {
     "data": {
      "text/plain": [
       "array([[1, 2],\n",
       "       [3, 4],\n",
       "       [5, 6]])"
      ]
     },
     "execution_count": 110,
     "metadata": {},
     "output_type": "execute_result"
    }
   ],
   "execution_count": 110
  },
  {
   "metadata": {
    "ExecuteTime": {
     "end_time": "2025-10-16T14:31:32.134823Z",
     "start_time": "2025-10-16T14:31:32.127891Z"
    }
   },
   "cell_type": "code",
   "source": "a.transpose()",
   "id": "4725a43ed26e77",
   "outputs": [
    {
     "data": {
      "text/plain": [
       "array([[1, 4],\n",
       "       [2, 5],\n",
       "       [3, 6]])"
      ]
     },
     "execution_count": 111,
     "metadata": {},
     "output_type": "execute_result"
    }
   ],
   "execution_count": 111
  },
  {
   "metadata": {},
   "cell_type": "markdown",
   "source": "How to reverse an array",
   "id": "1b73ad3f4a86bfaf"
  },
  {
   "metadata": {
    "ExecuteTime": {
     "end_time": "2025-10-16T14:32:37.269325Z",
     "start_time": "2025-10-16T14:32:37.260494Z"
    }
   },
   "cell_type": "code",
   "source": [
    "arr=[2,4,3,1,5,6,7]\n",
    "np.flip(arr)"
   ],
   "id": "ae1a6bdedbbec0c9",
   "outputs": [
    {
     "data": {
      "text/plain": [
       "array([7, 6, 5, 1, 3, 4, 2])"
      ]
     },
     "execution_count": 112,
     "metadata": {},
     "output_type": "execute_result"
    }
   ],
   "execution_count": 112
  },
  {
   "metadata": {},
   "cell_type": "code",
   "outputs": [],
   "execution_count": null,
   "source": "",
   "id": "99c7c3e9097f74d3"
  }
 ],
 "metadata": {
  "kernelspec": {
   "display_name": "Python 3",
   "language": "python",
   "name": "python3"
  },
  "language_info": {
   "codemirror_mode": {
    "name": "ipython",
    "version": 2
   },
   "file_extension": ".py",
   "mimetype": "text/x-python",
   "name": "python",
   "nbconvert_exporter": "python",
   "pygments_lexer": "ipython2",
   "version": "2.7.6"
  }
 },
 "nbformat": 4,
 "nbformat_minor": 5
}
