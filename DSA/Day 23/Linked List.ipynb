{
 "cells": [
  {
   "metadata": {},
   "cell_type": "markdown",
   "source": "Defne the Node class",
   "id": "7f24e1c70d917d82"
  },
  {
   "cell_type": "code",
   "id": "initial_id",
   "metadata": {
    "collapsed": true,
    "ExecuteTime": {
     "end_time": "2025-10-05T16:35:28.648961Z",
     "start_time": "2025-10-05T16:35:28.628735Z"
    }
   },
   "source": [
    "class Node:\n",
    "    def __init__(self,data1,next1=None):\n",
    "        self.data=data1\n",
    "        self.next=next1\n",
    "    y=Node(2)\n",
    "    print(y.data)"
   ],
   "outputs": [
    {
     "name": "stdout",
     "output_type": "stream",
     "text": [
      "2\n"
     ]
    }
   ],
   "execution_count": 12
  },
  {
   "metadata": {},
   "cell_type": "markdown",
   "source": "Understanding Pointers",
   "id": "dcca5a9f057e84e"
  },
  {
   "metadata": {
    "ExecuteTime": {
     "end_time": "2025-10-06T06:16:23.788797Z",
     "start_time": "2025-10-06T06:16:23.767138Z"
    }
   },
   "cell_type": "code",
   "source": [
    "class Node:\n",
    "    def __init__(self, data1, next1=None):\n",
    "        self.data = data1\n",
    "        self.next = next1\n",
    "\n",
    "y = Node(2)\n",
    "x=y\n",
    "print(x)"
   ],
   "id": "97150413c75ec4d4",
   "outputs": [
    {
     "name": "stdout",
     "output_type": "stream",
     "text": [
      "<__main__.Node object at 0x00000263C1C07B10>\n"
     ]
    }
   ],
   "execution_count": 3
  },
  {
   "metadata": {},
   "cell_type": "markdown",
   "source": "Define the LinkedList",
   "id": "6b53183fa4388ba3"
  },
  {
   "metadata": {
    "ExecuteTime": {
     "end_time": "2025-10-06T09:40:04.741856Z",
     "start_time": "2025-10-06T09:40:04.713874Z"
    }
   },
   "cell_type": "code",
   "source": [
    "class LinkedList:\n",
    "    def __init__(self):\n",
    "        self.head=None"
   ],
   "id": "4662b8a02edb489",
   "outputs": [],
   "execution_count": 4
  },
  {
   "metadata": {},
   "cell_type": "markdown",
   "source": "Insertion Operations",
   "id": "f4773975481e8bef"
  },
  {
   "metadata": {
    "ExecuteTime": {
     "end_time": "2025-10-07T09:42:39.022298Z",
     "start_time": "2025-10-07T09:42:39.008557Z"
    }
   },
   "cell_type": "code",
   "source": [
    "class Node:\n",
    "    def __init__(self,data):\n",
    "        self.data=data\n",
    "        self.next=None\n",
    "class LinkedList:\n",
    "    def __init__(self):\n",
    "        self.head=None\n",
    "\n",
    "    def insertatstart(self,data):\n",
    "        newnode=Node(data)\n",
    "        newnode.next=self.head\n",
    "        self.head=newnode\n",
    "\n",
    "    def insertatend(self,data):\n",
    "        newnode=Node(data)\n",
    "        if not self.head:\n",
    "            self.head=newnode\n",
    "            return\n",
    "        temp=self.head\n",
    "        while temp.next:\n",
    "            temp=temp.next\n",
    "        temp.next=newnode\n",
    "\n",
    "    def insertafter(self,data,target):\n",
    "        temp=self.head\n",
    "        while temp and temp.data!=target:\n",
    "            temp=temp.next\n",
    "        if not temp:\n",
    "            print(f\"target not found {target}\")\n",
    "            return\n",
    "        newnode=Node(data)\n",
    "        newnode.next=temp.next\n",
    "        temp.next=newnode\n",
    "\n",
    "    def deletefirst(self):\n",
    "        newnode=Node(data)\n",
    "        newnode.next=self.head\n",
    "        self.head=newnode\n",
    "\n",
    "    def deleteEnd(self):\n",
    "        if not self.head.next:\n",
    "                print(\"already empty\")\n",
    "        temp=self.head\n",
    "        while temp.next.next:\n",
    "            temp=temp.next\n",
    "        temp.next=None\n",
    "\n",
    "    def deletebytarget(self,target):\n",
    "        if self.head.data==target:\n",
    "            self.head=self.head.next\n",
    "            return\n",
    "        temp=self.head\n",
    "        while temp.next and temp.next.data!=target:\n",
    "            temp=temp.next\n",
    "        if not temp.next:\n",
    "            print(\"not found\")\n",
    "            return\n",
    "        temp.next=temp.next.next\n",
    "\n",
    "    def display(self):\n",
    "        temp=self.head\n",
    "        while temp:\n",
    "            print(temp.data,end=\"-->\")\n",
    "            temp=temp.next\n",
    "        print(\"None\")\n",
    "\n",
    "l1=LinkedList()\n",
    "l1.insertatend(2)\n",
    "l1.insertatend(40)\n",
    "l1.insertatstart(1)\n",
    "l1.insertafter(1,40)\n",
    "l1.display()\n",
    "\n",
    "\n"
   ],
   "id": "1e776472106a01ec",
   "outputs": [
    {
     "name": "stdout",
     "output_type": "stream",
     "text": [
      "1-->2-->40-->1-->None\n"
     ]
    }
   ],
   "execution_count": 34
  },
  {
   "metadata": {
    "ExecuteTime": {
     "end_time": "2025-10-07T10:17:06.480Z",
     "start_time": "2025-10-07T10:17:06.458881Z"
    }
   },
   "cell_type": "code",
   "source": [
    "class Node:\n",
    "    def __init__(self,data):\n",
    "        self.data=data\n",
    "        self.next=None\n",
    "class LinkedList:\n",
    "    def __init__(self):\n",
    "        self.head=None\n",
    "\n",
    "    def insertatstart(self,data):\n",
    "        newnode=Node(data)\n",
    "        newnode.next=self.head\n",
    "        self.head=newnode\n",
    "\n",
    "    def insertatend(self,data):\n",
    "        newnode=Node(data)\n",
    "        if not self.head:\n",
    "            head=newnode\n",
    "            return\n",
    "        temp=self.head\n",
    "        while temp.next:\n",
    "            temp=temp.next\n",
    "        temp.next=newnode\n",
    "\n",
    "    def insertatkthplace(self,data,pos):\n",
    "        newnode=Node(data)\n",
    "        if pos==1:\n",
    "            newnode.next=self.head\n",
    "            self.head=newnode\n",
    "        temp=self.head\n",
    "        count=1\n",
    "        while temp and count< pos-1:\n",
    "            temp=temp.next\n",
    "            count+=1\n",
    "        newnode.next=temp.next\n",
    "        temp.next=newnode\n",
    "    def insertafterval(self,data,val):\n",
    "        newnode=Node(data)\n",
    "\n",
    "        if not self.head:\n",
    "            newnode.next=self.head\n",
    "            self.head=newnode\n",
    "            return\n",
    "        temp=self.head\n",
    "        while temp and temp.next.data!=val:\n",
    "            temp =temp.next\n",
    "        newnode.next=temp.next.next\n",
    "        temp.next.next=newnode\n",
    "\n",
    "\n",
    "    def display(self):\n",
    "        temp=self.head\n",
    "        while temp:\n",
    "            print(temp.data,end=\"-->\")\n",
    "            temp=temp.next\n",
    "        print(\"None\")\n",
    "\n",
    "l1=LinkedList()\n",
    "l1.insertatstart(1)\n",
    "l1.insertatend(3)\n",
    "l1.insertatkthplace(2,2)\n",
    "l1.insertatend(5)\n",
    "l1.insertafterval(20,3)\n",
    "l1.insertatend(4)\n",
    "l1.display()\n",
    "\n"
   ],
   "id": "612e879c56bab0fb",
   "outputs": [
    {
     "name": "stdout",
     "output_type": "stream",
     "text": [
      "1-->2-->3-->20-->5-->4-->None\n"
     ]
    }
   ],
   "execution_count": 50
  },
  {
   "metadata": {
    "ExecuteTime": {
     "end_time": "2025-10-07T16:46:17.791654Z",
     "start_time": "2025-10-07T16:46:17.777290Z"
    }
   },
   "cell_type": "code",
   "source": [
    "class Node:\n",
    "    def __init__(self,data):\n",
    "        self.data=data\n",
    "        self.next=None\n",
    "def reverse(head):\n",
    "    prev=None\n",
    "    curr=head\n",
    "    while curr!=None:\n",
    "        next_node=curr.next\n",
    "        curr.next=prev\n",
    "        prev=curr\n",
    "        curr=next_node\n",
    "    return prev\n",
    "head=Node(1)\n",
    "head.next=Node(2)\n",
    "head.next.next=Node(3)\n",
    "head.next.next.next=Node(4)\n",
    "new_head=reverse(head)\n",
    "temp=new_head\n",
    "\n",
    "while temp:\n",
    "    print(temp.data,end=\"-->\")\n",
    "    temp=temp.next\n",
    "print(\"None\")\n",
    "\n"
   ],
   "id": "8850daf487e65a2f",
   "outputs": [
    {
     "name": "stdout",
     "output_type": "stream",
     "text": [
      "4-->3-->2-->1-->None\n"
     ]
    }
   ],
   "execution_count": 53
  },
  {
   "metadata": {
    "ExecuteTime": {
     "end_time": "2025-10-07T16:56:04.281974Z",
     "start_time": "2025-10-07T16:56:04.267367Z"
    }
   },
   "cell_type": "code",
   "source": [
    "class Node:\n",
    "    def __init__(self,data):\n",
    "        self.data=data\n",
    "        self.next=None\n",
    "def middle(head):\n",
    "    fast=head\n",
    "    slow=head\n",
    "    while fast and fast.next:\n",
    "        fast=fast.next.next\n",
    "        slow=slow.next\n",
    "    return slow\n",
    "head=Node(1)\n",
    "head.next=Node(2)\n",
    "head.next.next=Node(3)\n",
    "head.next.next.next=Node(4)\n",
    "head.next.next.next.next=Node(5)\n",
    "\n",
    "middle_node=middle(head)\n",
    "temp=middle_node\n",
    "while temp:\n",
    "    print(temp.data,end=\"-->\")\n",
    "    temp=temp.next\n",
    "print(\"None\")"
   ],
   "id": "e37fe983309ce9db",
   "outputs": [
    {
     "name": "stdout",
     "output_type": "stream",
     "text": [
      "3-->4-->5-->None\n"
     ]
    }
   ],
   "execution_count": 66
  }
 ],
 "metadata": {
  "kernelspec": {
   "display_name": "Python 3",
   "language": "python",
   "name": "python3"
  },
  "language_info": {
   "codemirror_mode": {
    "name": "ipython",
    "version": 2
   },
   "file_extension": ".py",
   "mimetype": "text/x-python",
   "name": "python",
   "nbconvert_exporter": "python",
   "pygments_lexer": "ipython2",
   "version": "2.7.6"
  }
 },
 "nbformat": 4,
 "nbformat_minor": 5
}
