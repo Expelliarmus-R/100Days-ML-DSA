{
 "cells": [
  {
   "cell_type": "code",
   "id": "initial_id",
   "metadata": {
    "collapsed": true,
    "ExecuteTime": {
     "end_time": "2025-09-30T09:20:22.230338Z",
     "start_time": "2025-09-30T09:20:22.214213Z"
    }
   },
   "source": "print(\"hi\")",
   "outputs": [
    {
     "name": "stdout",
     "output_type": "stream",
     "text": [
      "hi\n"
     ]
    }
   ],
   "execution_count": 1
  },
  {
   "metadata": {},
   "cell_type": "markdown",
   "source": "Indexing and slicing:\n",
   "id": "2c4fcd51a114d0be"
  },
  {
   "metadata": {
    "ExecuteTime": {
     "end_time": "2025-09-30T09:26:19.596948Z",
     "start_time": "2025-09-30T09:26:19.588796Z"
    }
   },
   "cell_type": "code",
   "source": [
    "string=\"hello world\"\n",
    "f=string[0]\n",
    "s=string[1]\n",
    "print(f+s+string[-1])"
   ],
   "id": "7a2272cc7eae004e",
   "outputs": [
    {
     "name": "stdout",
     "output_type": "stream",
     "text": [
      "hed\n"
     ]
    }
   ],
   "execution_count": 3
  },
  {
   "metadata": {},
   "cell_type": "markdown",
   "source": "slicing\n",
   "id": "fd1a0b8ba853b031"
  },
  {
   "metadata": {
    "ExecuteTime": {
     "end_time": "2025-09-30T09:27:31.920996Z",
     "start_time": "2025-09-30T09:27:31.915380Z"
    }
   },
   "cell_type": "code",
   "source": [
    "string=\"hello world\"\n",
    "substring=string[0:11]\n",
    "print(substring)"
   ],
   "id": "f35d7639f492d4f3",
   "outputs": [
    {
     "name": "stdout",
     "output_type": "stream",
     "text": [
      "hello world\n"
     ]
    }
   ],
   "execution_count": 7
  },
  {
   "metadata": {
    "ExecuteTime": {
     "end_time": "2025-09-30T09:27:57.525385Z",
     "start_time": "2025-09-30T09:27:57.520501Z"
    }
   },
   "cell_type": "code",
   "source": [
    "string=\"hello world\"\n",
    "substring=string[6:]\n",
    "print(substring)"
   ],
   "id": "c96d73d03c0e1d94",
   "outputs": [
    {
     "name": "stdout",
     "output_type": "stream",
     "text": [
      "world\n"
     ]
    }
   ],
   "execution_count": 9
  },
  {
   "metadata": {
    "ExecuteTime": {
     "end_time": "2025-09-30T09:28:28.874035Z",
     "start_time": "2025-09-30T09:28:28.869140Z"
    }
   },
   "cell_type": "code",
   "source": [
    "string=\"hello world\"\n",
    "substring=string[6::2]\n",
    "print(substring)"
   ],
   "id": "fdbfe33d2bc5b583",
   "outputs": [
    {
     "name": "stdout",
     "output_type": "stream",
     "text": [
      "wrd\n"
     ]
    }
   ],
   "execution_count": 10
  },
  {
   "metadata": {
    "ExecuteTime": {
     "end_time": "2025-09-30T09:41:11.209375Z",
     "start_time": "2025-09-30T09:41:11.202616Z"
    }
   },
   "cell_type": "code",
   "source": [
    "string=\"hello world\"\n",
    "substring=string[-3:]  # Extract the last 3 characters\n",
    "substring=string[:-1]  # Extract all characters except lst\n",
    "print(substring)"
   ],
   "id": "875f729fd153b163",
   "outputs": [
    {
     "name": "stdout",
     "output_type": "stream",
     "text": [
      "hello worl\n"
     ]
    }
   ],
   "execution_count": 19
  },
  {
   "metadata": {},
   "cell_type": "markdown",
   "source": "Upper and lower case",
   "id": "e9ceb6293c4c522c"
  },
  {
   "metadata": {
    "ExecuteTime": {
     "end_time": "2025-09-30T09:42:11.750042Z",
     "start_time": "2025-09-30T09:42:11.743031Z"
    }
   },
   "cell_type": "code",
   "source": [
    "string = \"Hi, there\"\n",
    "upper=string.upper()\n",
    "print(upper)"
   ],
   "id": "aa8e6d9b8627e8cb",
   "outputs": [
    {
     "name": "stdout",
     "output_type": "stream",
     "text": [
      "HI, THERE\n"
     ]
    }
   ],
   "execution_count": 20
  },
  {
   "metadata": {
    "ExecuteTime": {
     "end_time": "2025-09-30T09:43:07.147051Z",
     "start_time": "2025-09-30T09:43:07.141386Z"
    }
   },
   "cell_type": "code",
   "source": [
    "string = \"HI, THERE\"\n",
    "lower=string.lower()\n",
    "print(lower)"
   ],
   "id": "5f9a8ce7456184e5",
   "outputs": [
    {
     "name": "stdout",
     "output_type": "stream",
     "text": [
      "hi, there\n"
     ]
    }
   ],
   "execution_count": 22
  },
  {
   "metadata": {},
   "cell_type": "markdown",
   "source": "Title case",
   "id": "a47a152ccc09a704"
  },
  {
   "metadata": {
    "ExecuteTime": {
     "end_time": "2025-09-30T09:43:34.260468Z",
     "start_time": "2025-09-30T09:43:34.252326Z"
    }
   },
   "cell_type": "code",
   "source": [
    "string = \"HI, THERE\"\n",
    "title=string.title()\n",
    "print(title)"
   ],
   "id": "44b8ad19b286d3a4",
   "outputs": [
    {
     "name": "stdout",
     "output_type": "stream",
     "text": [
      "Hi, There\n"
     ]
    }
   ],
   "execution_count": 24
  },
  {
   "metadata": {},
   "cell_type": "markdown",
   "source": "Capitalized case",
   "id": "3b68e4c0b3ad54f3"
  },
  {
   "metadata": {
    "ExecuteTime": {
     "end_time": "2025-09-30T09:44:29.306954Z",
     "start_time": "2025-09-30T09:44:29.302334Z"
    }
   },
   "cell_type": "code",
   "source": [
    "string = \"Python Programming is Fun!\"\n",
    "capital=string.capitalize()\n",
    "print(capital)"
   ],
   "id": "a26162f3a7e9be93",
   "outputs": [
    {
     "name": "stdout",
     "output_type": "stream",
     "text": [
      "Python programming is fun!\n"
     ]
    }
   ],
   "execution_count": 26
  },
  {
   "metadata": {},
   "cell_type": "markdown",
   "source": "Concatenation",
   "id": "10b077ef3afb73d3"
  },
  {
   "metadata": {
    "ExecuteTime": {
     "end_time": "2025-09-30T09:47:22.024970Z",
     "start_time": "2025-09-30T09:47:22.019344Z"
    }
   },
   "cell_type": "code",
   "source": [
    "str1=\"hello\"\n",
    "str2=\"bro\"\n",
    "res=(str1+str2)\n",
    "print(res,end=\" \")"
   ],
   "id": "c55cdd82d95038c7",
   "outputs": [
    {
     "name": "stdout",
     "output_type": "stream",
     "text": [
      "hellobro "
     ]
    }
   ],
   "execution_count": 32
  },
  {
   "metadata": {
    "ExecuteTime": {
     "end_time": "2025-09-30T09:48:30.617294Z",
     "start_time": "2025-09-30T09:48:30.612867Z"
    }
   },
   "cell_type": "code",
   "source": [
    "\n",
    "age = 25\n",
    "print(\"Age: \" + str(age))"
   ],
   "id": "3c12143267dd0da9",
   "outputs": [
    {
     "name": "stdout",
     "output_type": "stream",
     "text": [
      "Age: 25\n"
     ]
    }
   ],
   "execution_count": 34
  },
  {
   "metadata": {},
   "cell_type": "markdown",
   "source": [
    "\n",
    "Repeating/Replicating Strings:"
   ],
   "id": "c1cc4357d90e0a84"
  },
  {
   "metadata": {
    "ExecuteTime": {
     "end_time": "2025-09-30T09:53:25.378711Z",
     "start_time": "2025-09-30T09:53:25.372485Z"
    }
   },
   "cell_type": "code",
   "source": [
    "str1=\"rakesh\"\n",
    "result=str1*2\n",
    "print(result)"
   ],
   "id": "20e1a74fe07ff7e3",
   "outputs": [
    {
     "name": "stdout",
     "output_type": "stream",
     "text": [
      "rakeshrakesh\n"
     ]
    }
   ],
   "execution_count": 35
  },
  {
   "metadata": {},
   "cell_type": "markdown",
   "source": "Comparing Strings\n",
   "id": "f712521bff1a4123"
  },
  {
   "metadata": {
    "ExecuteTime": {
     "end_time": "2025-09-30T09:56:55.886787Z",
     "start_time": "2025-09-30T09:56:55.882306Z"
    }
   },
   "cell_type": "code",
   "source": [
    "str1=\"apple\"\n",
    "str2=\"banana\"\n",
    "print(str1==str2)\n",
    "print(str1>str2)\n",
    "print(str1!=str2)\n",
    "\n",
    "\n"
   ],
   "id": "8523a28f3e1f789a",
   "outputs": [
    {
     "name": "stdout",
     "output_type": "stream",
     "text": [
      "False\n",
      "False\n",
      "True\n"
     ]
    }
   ],
   "execution_count": 37
  },
  {
   "metadata": {},
   "cell_type": "markdown",
   "source": "replace()\n",
   "id": "975a353898066c56"
  },
  {
   "metadata": {
    "ExecuteTime": {
     "end_time": "2025-09-30T09:57:53.871867Z",
     "start_time": "2025-09-30T09:57:53.868114Z"
    }
   },
   "cell_type": "code",
   "source": [
    "str=\"hello\"\n",
    "r=str.replace(\"o\",\"\")\n",
    "print(r)"
   ],
   "id": "681de74c43e0033a",
   "outputs": [
    {
     "name": "stdout",
     "output_type": "stream",
     "text": [
      "hell\n"
     ]
    }
   ],
   "execution_count": 40
  },
  {
   "metadata": {
    "ExecuteTime": {
     "end_time": "2025-09-30T09:59:20.062588Z",
     "start_time": "2025-09-30T09:59:20.056914Z"
    }
   },
   "cell_type": "code",
   "source": [
    "str=\"hello world\"\n",
    "r=str.replace(\"world\",\"python\")\n",
    "print(r)"
   ],
   "id": "7d34b3ef49e13650",
   "outputs": [
    {
     "name": "stdout",
     "output_type": "stream",
     "text": [
      "hello python\n"
     ]
    }
   ],
   "execution_count": 41
  },
  {
   "metadata": {},
   "cell_type": "markdown",
   "source": "split()\n",
   "id": "df2cd550c145d030"
  },
  {
   "metadata": {
    "ExecuteTime": {
     "end_time": "2025-09-30T10:07:18.744578Z",
     "start_time": "2025-09-30T10:07:18.740186Z"
    }
   },
   "cell_type": "code",
   "source": [
    "sentence = \"This is a sentence.\"\n",
    "words=sentence.split()\n",
    "print(words)"
   ],
   "id": "5fbf7a282817a641",
   "outputs": [
    {
     "name": "stdout",
     "output_type": "stream",
     "text": [
      "['This', 'is', 'a', 'sentence.']\n"
     ]
    }
   ],
   "execution_count": 51
  },
  {
   "metadata": {
    "ExecuteTime": {
     "end_time": "2025-09-30T10:09:23.139740Z",
     "start_time": "2025-09-30T10:09:23.136142Z"
    }
   },
   "cell_type": "code",
   "source": [
    "sentence = \"This is a sentence.\"\n",
    "words=sentence.split(\" \")\n",
    "s=words[-1:]\n",
    "print(s)\n"
   ],
   "id": "cb92444598df64a5",
   "outputs": [
    {
     "name": "stdout",
     "output_type": "stream",
     "text": [
      "['sentence.']\n"
     ]
    }
   ],
   "execution_count": 62
  },
  {
   "metadata": {},
   "cell_type": "markdown",
   "source": "Formatting:",
   "id": "97e250c318342f8b"
  },
  {
   "metadata": {
    "ExecuteTime": {
     "end_time": "2025-09-30T10:27:47.702287Z",
     "start_time": "2025-09-30T10:27:47.696559Z"
    }
   },
   "cell_type": "code",
   "source": [
    "age=22\n",
    "name=\"Rakesh\"\n",
    "print(f\"My Name is {name} and My Age is {age}\")"
   ],
   "id": "77802572177bd935",
   "outputs": [
    {
     "name": "stdout",
     "output_type": "stream",
     "text": [
      "My Name is Rakesh and My Age is 22\n"
     ]
    }
   ],
   "execution_count": 70
  },
  {
   "metadata": {},
   "cell_type": "markdown",
   "source": "STRIP",
   "id": "aeb17429a289aa4f"
  },
  {
   "metadata": {
    "ExecuteTime": {
     "end_time": "2025-09-30T10:29:11.191093Z",
     "start_time": "2025-09-30T10:29:11.186457Z"
    }
   },
   "cell_type": "code",
   "source": [
    "text=\"hello world    \"\n",
    "stripped=text.strip()\n",
    "print(stripped)"
   ],
   "id": "862aa5b6cb866f0b",
   "outputs": [
    {
     "name": "stdout",
     "output_type": "stream",
     "text": [
      "hello world\n"
     ]
    }
   ],
   "execution_count": 72
  },
  {
   "metadata": {},
   "cell_type": "markdown",
   "source": "Index()",
   "id": "d7ab0171b5ff21a9"
  },
  {
   "metadata": {
    "ExecuteTime": {
     "end_time": "2025-09-30T10:47:08.948353Z",
     "start_time": "2025-09-30T10:47:08.943843Z"
    }
   },
   "cell_type": "code",
   "source": [
    "string=\"hey, bro\"\n",
    "index=string.index(\"bro\")\n",
    "print(index)"
   ],
   "id": "40229d85628d2849",
   "outputs": [
    {
     "name": "stdout",
     "output_type": "stream",
     "text": [
      "5\n"
     ]
    }
   ],
   "execution_count": 77
  },
  {
   "metadata": {},
   "cell_type": "markdown",
   "source": "find()\n",
   "id": "c0a781c40a6dc3f9"
  },
  {
   "metadata": {
    "ExecuteTime": {
     "end_time": "2025-09-30T10:48:16.894061Z",
     "start_time": "2025-09-30T10:48:16.889107Z"
    }
   },
   "cell_type": "code",
   "source": [
    "sentence=\"this is a sample sentence\"\n",
    "index=sentence.find(\"sentence\")\n",
    "print(index)"
   ],
   "id": "c09db3f8269bd582",
   "outputs": [
    {
     "name": "stdout",
     "output_type": "stream",
     "text": [
      "17\n"
     ]
    }
   ],
   "execution_count": 78
  },
  {
   "metadata": {},
   "cell_type": "markdown",
   "source": "startswith()",
   "id": "af0c290cbdc1974c"
  },
  {
   "metadata": {
    "ExecuteTime": {
     "end_time": "2025-09-30T10:49:38.411935Z",
     "start_time": "2025-09-30T10:49:38.405581Z"
    }
   },
   "cell_type": "code",
   "source": [
    "string=\"hi how are you\"\n",
    "print(string.startswith(\"how\"))"
   ],
   "id": "cc3cd84231062608",
   "outputs": [
    {
     "name": "stdout",
     "output_type": "stream",
     "text": [
      "False\n"
     ]
    }
   ],
   "execution_count": 81
  },
  {
   "metadata": {},
   "cell_type": "markdown",
   "source": "count()\n",
   "id": "eba22bd78aac5976"
  },
  {
   "metadata": {
    "ExecuteTime": {
     "end_time": "2025-09-30T10:54:55.566411Z",
     "start_time": "2025-09-30T10:54:55.559491Z"
    }
   },
   "cell_type": "code",
   "source": [
    "sentence=\"hello\"\n",
    "print(sentence.count(\"l\"))"
   ],
   "id": "7bfd63a9935ae3d1",
   "outputs": [
    {
     "name": "stdout",
     "output_type": "stream",
     "text": [
      "2\n"
     ]
    }
   ],
   "execution_count": 82
  },
  {
   "metadata": {},
   "cell_type": "markdown",
   "source": "isupper()",
   "id": "83c5dbef244a80ac"
  },
  {
   "metadata": {
    "ExecuteTime": {
     "end_time": "2025-09-30T10:57:39.440584Z",
     "start_time": "2025-09-30T10:57:39.434380Z"
    }
   },
   "cell_type": "code",
   "source": [
    "str=\"HEY\"\n",
    "print(str.isupper())"
   ],
   "id": "261ca09393eaef2f",
   "outputs": [
    {
     "name": "stdout",
     "output_type": "stream",
     "text": [
      "True\n"
     ]
    }
   ],
   "execution_count": 83
  },
  {
   "metadata": {
    "ExecuteTime": {
     "end_time": "2025-09-30T10:58:02.005270Z",
     "start_time": "2025-09-30T10:58:02.000534Z"
    }
   },
   "cell_type": "code",
   "source": [
    "str=\"HEY\"\n",
    "print(str.islower())"
   ],
   "id": "9ebe2c460c7fe80b",
   "outputs": [
    {
     "name": "stdout",
     "output_type": "stream",
     "text": [
      "False\n"
     ]
    }
   ],
   "execution_count": 84
  },
  {
   "metadata": {},
   "cell_type": "markdown",
   "source": "swapcase()",
   "id": "3cc85bfdfa75e79a"
  },
  {
   "metadata": {
    "ExecuteTime": {
     "end_time": "2025-09-30T10:59:15.006705Z",
     "start_time": "2025-09-30T10:59:15.002100Z"
    }
   },
   "cell_type": "code",
   "source": [
    "text=\"hellloooo iM rAKESH\"\n",
    "print(text.swapcase())"
   ],
   "id": "b435fbde0b04c081",
   "outputs": [
    {
     "name": "stdout",
     "output_type": "stream",
     "text": [
      "HELLLOOOO Im Rakesh\n"
     ]
    }
   ],
   "execution_count": 85
  },
  {
   "metadata": {
    "ExecuteTime": {
     "end_time": "2025-09-30T11:36:30.489300Z",
     "start_time": "2025-09-30T11:36:30.483910Z"
    }
   },
   "cell_type": "code",
   "source": [
    "text=\"A man, a plan, a canal: Panama\"\n",
    "def t(text):\n",
    "    res=\"\"\n",
    "    c=\"\"\n",
    "    al=\"^[--Z0-9]*$:\"\n",
    "    for i in text:\n",
    "        if i in al:\n",
    "            res+=c\n",
    "        else:\n",
    "            res+=i\n",
    "    return res.lower()\n",
    "\n",
    "print(t(text))\n",
    "\n",
    "\n",
    "\n",
    "\n"
   ],
   "id": "ab1f4564689afbc5",
   "outputs": [
    {
     "name": "stdout",
     "output_type": "stream",
     "text": [
      "a man, a plan, a canal panama\n"
     ]
    }
   ],
   "execution_count": 108
  },
  {
   "metadata": {},
   "cell_type": "code",
   "outputs": [],
   "execution_count": null,
   "source": "",
   "id": "c42fb3491eac8488"
  }
 ],
 "metadata": {
  "kernelspec": {
   "display_name": "Python 3",
   "language": "python",
   "name": "python3"
  },
  "language_info": {
   "codemirror_mode": {
    "name": "ipython",
    "version": 2
   },
   "file_extension": ".py",
   "mimetype": "text/x-python",
   "name": "python",
   "nbconvert_exporter": "python",
   "pygments_lexer": "ipython2",
   "version": "2.7.6"
  }
 },
 "nbformat": 4,
 "nbformat_minor": 5
}
