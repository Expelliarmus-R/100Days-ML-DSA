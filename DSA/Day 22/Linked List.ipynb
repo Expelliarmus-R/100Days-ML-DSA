{
 "cells": [
  {
   "metadata": {},
   "cell_type": "markdown",
   "source": "Defne the Node class",
   "id": "7f24e1c70d917d82"
  },
  {
   "cell_type": "code",
   "id": "initial_id",
   "metadata": {
    "collapsed": true,
    "ExecuteTime": {
     "end_time": "2025-10-05T16:35:28.648961Z",
     "start_time": "2025-10-05T16:35:28.628735Z"
    }
   },
   "source": [
    "class Node:\n",
    "    def __init__(self,data1,next1=None):\n",
    "        self.data=data1\n",
    "        self.next=next1\n",
    "    y=Node(2)\n",
    "    print(y.data)"
   ],
   "outputs": [
    {
     "name": "stdout",
     "output_type": "stream",
     "text": [
      "2\n"
     ]
    }
   ],
   "execution_count": 12
  },
  {
   "metadata": {},
   "cell_type": "markdown",
   "source": "Understanding Pointers",
   "id": "dcca5a9f057e84e"
  },
  {
   "metadata": {
    "ExecuteTime": {
     "end_time": "2025-10-06T06:16:23.788797Z",
     "start_time": "2025-10-06T06:16:23.767138Z"
    }
   },
   "cell_type": "code",
   "source": [
    "class Node:\n",
    "    def __init__(self, data1, next1=None):\n",
    "        self.data = data1\n",
    "        self.next = next1\n",
    "\n",
    "y = Node(2)\n",
    "x=y\n",
    "print(x)"
   ],
   "id": "97150413c75ec4d4",
   "outputs": [
    {
     "name": "stdout",
     "output_type": "stream",
     "text": [
      "<__main__.Node object at 0x00000263C1C07B10>\n"
     ]
    }
   ],
   "execution_count": 3
  },
  {
   "metadata": {},
   "cell_type": "markdown",
   "source": "Define the LinkedList",
   "id": "6b53183fa4388ba3"
  },
  {
   "metadata": {
    "ExecuteTime": {
     "end_time": "2025-10-06T09:40:04.741856Z",
     "start_time": "2025-10-06T09:40:04.713874Z"
    }
   },
   "cell_type": "code",
   "source": [
    "class LinkedList:\n",
    "    def __init__(self):\n",
    "        self.head=None"
   ],
   "id": "4662b8a02edb489",
   "outputs": [],
   "execution_count": 4
  },
  {
   "metadata": {},
   "cell_type": "markdown",
   "source": "Insertion Operations",
   "id": "f4773975481e8bef"
  },
  {
   "metadata": {
    "ExecuteTime": {
     "end_time": "2025-10-06T12:21:41.356419Z",
     "start_time": "2025-10-06T12:21:41.340545Z"
    }
   },
   "cell_type": "code",
   "source": [
    "class Node:\n",
    "    def __init__(self,data):\n",
    "        self.data=data\n",
    "        self.next=None\n",
    "class LinkedList:\n",
    "    def __init__(self):\n",
    "        self.head=None\n",
    "\n",
    "    def insertatstart(self,data):\n",
    "        newnode=Node(data)\n",
    "        newnode.next=self.head\n",
    "        self.head=newnode\n",
    "\n",
    "    def insertatend(self,data):\n",
    "        newnode=Node(data)\n",
    "        if not self.head:\n",
    "            self.head=newnode\n",
    "            return\n",
    "        temp=self.head\n",
    "        while temp.next:\n",
    "            temp=temp.next\n",
    "        temp.next=newnode\n",
    "\n",
    "    def insertafter(self,data,target):\n",
    "        temp=self.head\n",
    "        while temp and temp.data!=target:\n",
    "            temp=temp.next\n",
    "        if not temp:\n",
    "            print(f\"target not found {target}\")\n",
    "            return\n",
    "        newnode=Node(data)\n",
    "        newnode.next=temp.next\n",
    "        temp.next=newnode\n",
    "\n",
    "    def deletefirst(self):\n",
    "        newnode=Node(data)\n",
    "        newnode.next=self.head\n",
    "        self.head=newnode\n",
    "\n",
    "    def deleteEnd(self):\n",
    "        if not self.head.next:\n",
    "                print(\"already empty\")\n",
    "        temp=self.head\n",
    "        while temp.next.next:\n",
    "            temp=temp.next\n",
    "        temp.next=None\n",
    "\n",
    "    def deletebytarget(self,target):\n",
    "        if self.head.data==target:\n",
    "            self.head=self.head.next\n",
    "            return\n",
    "        temp=self.head\n",
    "        while temp.next and temp.next.data!=target:\n",
    "            temp=temp.next\n",
    "        if not temp.next:\n",
    "            print(\"not found\")\n",
    "            return\n",
    "        temp.next=temp.next.next\n",
    "    def traversal(self,data):\n",
    "\n",
    "\n",
    "    def display(self):\n",
    "        temp=self.head\n",
    "        while temp:\n",
    "            print(temp.data,end=\"-->\")\n",
    "            temp=temp.next\n",
    "        print(\"None\")\n",
    "\n",
    "l1=LinkedList()\n",
    "l1.insertatend(2)\n",
    "l1.insertatend(40)\n",
    "l1.insertafter(1,2)\n",
    "l1.deleteEnd()\n",
    "l1.insertatend(2)\n",
    "l1.insertatstart(4)\n",
    "l1.deletebytarget(1)\n",
    "l1.display()\n",
    "\n",
    "\n"
   ],
   "id": "1e776472106a01ec",
   "outputs": [
    {
     "name": "stdout",
     "output_type": "stream",
     "text": [
      "4-->2-->2-->None\n"
     ]
    }
   ],
   "execution_count": 48
  },
  {
   "metadata": {},
   "cell_type": "code",
   "outputs": [],
   "execution_count": null,
   "source": [
    "class Node:\n",
    "    def __init__(self,data):\n",
    "        self.data=data\n",
    "        self.next=None\n",
    "class LinkedList:\n",
    "    def __init__(self):\n",
    "        self.head=None\n",
    "    def deletefirst(self,data):\n",
    "        newnode=Node(data)\n",
    "        newnode.next=self.head\n",
    "        self.head=newnode\n",
    "    def deleteEnd(self,data):\n",
    "        if not self.head.next:\n",
    "                print(\"already empty\")\n",
    "        temp=self.head\n",
    "        while temp.next.next:\n",
    "            temp=temp.next\n",
    "        temp.next=None\n",
    "    def deletebytarget(self,data,target):\n",
    "        if self.head==target:\n",
    "            self.head=self.head.next\n",
    "        temp=self.head\n",
    "        while temp.next and temp.next.data==target:\n",
    "            temp=temp.next\n",
    "        if not temp.next:\n",
    "            print(\"not found\")\n",
    "            return\n",
    "        temp.next=temp.next.next\n",
    "\n",
    "\n",
    "\n"
   ],
   "id": "5647309693f32d9c"
  }
 ],
 "metadata": {
  "kernelspec": {
   "display_name": "Python 3",
   "language": "python",
   "name": "python3"
  },
  "language_info": {
   "codemirror_mode": {
    "name": "ipython",
    "version": 2
   },
   "file_extension": ".py",
   "mimetype": "text/x-python",
   "name": "python",
   "nbconvert_exporter": "python",
   "pygments_lexer": "ipython2",
   "version": "2.7.6"
  }
 },
 "nbformat": 4,
 "nbformat_minor": 5
}
